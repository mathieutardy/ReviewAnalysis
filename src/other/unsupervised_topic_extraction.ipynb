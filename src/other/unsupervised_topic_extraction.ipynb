{
  "nbformat": 4,
  "nbformat_minor": 0,
  "metadata": {
    "colab": {
      "name": "unsupervised_topic_extraction.ipynb",
      "provenance": [],
      "collapsed_sections": []
    },
    "kernelspec": {
      "name": "python3",
      "display_name": "Python 3"
    },
    "language_info": {
      "name": "python"
    }
  },
  "cells": [
    {
      "cell_type": "code",
      "metadata": {
        "id": "c5IsztWlkvq1"
      },
      "source": [
        "import pandas as pd\n",
        "import numpy as np\n",
        "\n",
        "!pip install sentence_transformers\n",
        "from sentence_transformers import SentenceTransformer\n",
        "import nltk\n",
        "# Split review into sentences\n",
        "nltk.download('punkt')\n",
        "\n",
        "nltk.download('stopwords')\n",
        "from nltk.corpus import stopwords\n",
        "\n",
        "from nltk.stem import WordNetLemmatizer\n",
        "nltk.download('wordnet') \n",
        "\n",
        "import re\n",
        "\n",
        "nltk.download('averaged_perceptron_tagger')\n",
        "\n",
        "from gensim.models.doc2vec import Doc2Vec, TaggedDocument\n",
        "from gensim import downloader\n",
        "\n",
        "from sklearn.cluster import KMeans\n",
        "from tqdm import tqdm\n",
        "import matplotlib.pyplot as plt\n",
        "\n",
        "import pickle"
      ],
      "execution_count": null,
      "outputs": []
    },
    {
      "cell_type": "code",
      "metadata": {
        "id": "7j-0ZiO3kjRe"
      },
      "source": [
        "#Load data\n",
        "df = pd.read_json(path+'full.json')\n",
        "df = df[(df.review_language == 'en')][6:]"
      ],
      "execution_count": null,
      "outputs": []
    },
    {
      "cell_type": "code",
      "metadata": {
        "id": "SdPaoSdqkuzn"
      },
      "source": [
        "# Split review into sentences\n",
        "df['split_review'] = df.review.map(lambda x : nltk.tokenize.sent_tokenize(x))\n",
        "\n",
        "review_ids = []\n",
        "sentences = []\n",
        "for i in range(df.shape[0]):\n",
        "  for s in df['split_review'].values[i]:\n",
        "    review_ids.append(df.review_id.values[i])\n",
        "    sentences.append(s)\n",
        "\n",
        "data_tuples = list(zip(review_ids,sentences))\n",
        "df_s = pd.DataFrame(data_tuples, columns=['review_id','review_sentence'])"
      ],
      "execution_count": null,
      "outputs": []
    },
    {
      "cell_type": "code",
      "metadata": {
        "id": "bMeuHtvPyuFQ"
      },
      "source": [
        "# Preprocessing\n",
        "df_s['sentence_cleaned'] = df_s.review_sentence.map(lambda x: nltk.tokenize.word_tokenize(x))\n",
        "sentence_cleaned = [[word.lower() for word in sentence] for sentence in df_s['sentence_cleaned'].values]\n",
        "stop_words = stopwords.words('english')\n",
        "sentence_cleaned = [[word for word in sentence if word not in stop_words] for sentence in sentence_cleaned]\n",
        "lemmatizer = WordNetLemmatizer()   \n",
        "sentence_cleaned = [[lemmatizer.lemmatize(word) for word in sentence] for sentence in df_s['sentence_cleaned'].values]\n",
        "df_s['sentence_cleaned'] = sentence_cleaned\n",
        "df_s['sentence_cleaned'] = df_s['sentence_cleaned'].map(lambda x: \" \".join(x))\n",
        "df_s['sentence_cleaned'] = df_s['sentence_cleaned'].map(lambda x: re.sub('[,\\.!?/\\';\\&]', '', x))\n",
        "# sentence_cleaned = [[word for (word,pos) in nltk.pos_tag(nltk.tokenize.word_tokenize(sentence)) if pos in ['NN','JJ','VB']] for sentence in df_s['sentence_cleaned'].values]\n",
        "df_s['sentence_cleaned'] = sentence_cleaned\n",
        "df_s['sentence_cleaned'] = df_s['sentence_cleaned'].map(lambda x: \" \".join(x))\n",
        "df_s.to_csv(path+'full.csv')"
      ],
      "execution_count": null,
      "outputs": []
    },
    {
      "cell_type": "code",
      "metadata": {
        "colab": {
          "base_uri": "https://localhost:8080/",
          "height": 307
        },
        "id": "1F1qJAcG6fIE",
        "outputId": "78375dd3-df5d-4282-b254-a40f84e7b411"
      },
      "source": [
        "# Unsupervised topic classification\n",
        "df_s['sentence_cleaned'] = df_s.sentence_cleaned.map(lambda x: nltk.tokenize.word_tokenize(x))\n",
        "tagged_data = [TaggedDocument(d, [i]) for i, d in enumerate(df_s['sentence_cleaned'].values)]\n",
        "model = Doc2Vec(tagged_data, vector_size = 20, window = 2, min_count = 1, epochs = 100)\n",
        "embeddings = model.docvecs.vectors_docs\n",
        "with open(path+'embeddings.pkl','wb') as f:\n",
        "    pickle.dump(embeddings, f)\n",
        "\n",
        "# with open(path+'embeddings.pkl','rb') as f:\n",
        "#     embeddings = pickle.load(f)\n",
        "\n",
        "ks = range(4, 10)\n",
        "inertias = []\n",
        "\n",
        "for k in tqdm(ks):\n",
        "    # Create a KMeans instance with k clusters: model\n",
        "    km = KMeans(n_clusters = k)\n",
        "    \n",
        "    # Fit model to samples\n",
        "    km.fit(embeddings)\n",
        "    \n",
        "    # Append the inertia to the list of inertias\n",
        "    inertias.append(km.inertia_)\n",
        "    \n",
        "# Plot ks vs inertias\n",
        "plt.plot(ks, inertias, '-o')\n",
        "plt.xlabel('number of clusters, k')\n",
        "plt.ylabel('inertia')\n",
        "plt.xticks(ks)\n",
        "plt.show()"
      ],
      "execution_count": null,
      "outputs": [
        {
          "output_type": "stream",
          "text": [
            "100%|██████████| 6/6 [02:14<00:00, 22.47s/it]\n"
          ],
          "name": "stderr"
        },
        {
          "output_type": "display_data",
          "data": {
            "image/png": "[encoded data removed]",
            "text/plain": [
              "<Figure size 432x288 with 1 Axes>"
            ]
          },
          "metadata": {
            "tags": [],
            "needs_background": "light"
          }
        }
      ]
    },
    {
      "cell_type": "code",
      "metadata": {
        "id": "VqSMgHHpVlNr"
      },
      "source": [
        ""
      ],
      "execution_count": null,
      "outputs": []
    }
  ]
}