{
  "nbformat": 4,
  "nbformat_minor": 0,
  "metadata": {
    "colab": {
      "name": "lda_vader_sentiment_analysis.ipynb",
      "provenance": [],
      "collapsed_sections": []
    },
    "kernelspec": {
      "name": "python3",
      "display_name": "Python 3"
    },
    "language_info": {
      "name": "python"
    }
  },
  "cells": [
    {
      "cell_type": "code",
      "metadata": {
        "colab": {
          "base_uri": "https://localhost:8080/"
        },
        "id": "c5IsztWlkvq1",
        "outputId": "3b48723c-54f4-49a4-d132-17c30290402f"
      },
      "source": [
        "import pandas as pd\n",
        "import matplotlib.pyplot as plt\n",
        "\n",
        "import nltk\n",
        "nltk.download('punkt')\n",
        "\n",
        "from gensim.parsing.preprocessing import remove_stopwords\n",
        "from gensim.utils import simple_preprocess\n",
        "from gensim import downloader\n",
        "import spacy\n",
        "nlp = spacy.load(\"en_core_web_sm\")\n",
        "\n",
        "# Sentiment Analysis\n",
        "nltk.download('vader_lexicon')\n",
        "from nltk.sentiment.vader import SentimentIntensityAnalyzer\n",
        "\n",
        "# LDA\n",
        "from gensim.models.doc2vec import Doc2Vec, TaggedDocument\n",
        "from gensim import corpora\n",
        "from gensim.models import LdaMulticore\n",
        "\n",
        "glove = downloader.load('glove-wiki-gigaword-50')"
      ],
      "execution_count": null,
      "outputs": [
        {
          "output_type": "stream",
          "text": [
            "[nltk_data] Downloading package punkt to /root/nltk_data...\n",
            "[nltk_data]   Package punkt is already up-to-date!\n",
            "[nltk_data] Downloading package vader_lexicon to /root/nltk_data...\n",
            "[nltk_data]   Package vader_lexicon is already up-to-date!\n",
            "[==================================================] 100.0% 66.0/66.0MB downloaded\n"
          ],
          "name": "stdout"
        }
      ]
    },
    {
      "cell_type": "code",
      "metadata": {
        "id": "7j-0ZiO3kjRe",
        "colab": {
          "base_uri": "https://localhost:8080/",
          "height": 523
        },
        "outputId": "67ac7a7e-af9d-452c-e81a-3f82349f5310"
      },
      "source": [
        "def sentiment_analysis_preprocessing(df_s):\n",
        "  df_s['preprocess_data'] = df_s['review_sentence'].apply(lambda x: simple_preprocess(x, deacc=True))\n",
        "  df_s['preprocess_data'] = df_s['preprocess_data'].apply(' '.join)\n",
        "  df_s['preprocess_data'] = df_s['preprocess_data'].apply(lambda x: remove_stopwords(x))\n",
        "  return df_s\n",
        "\n",
        "def retrieve_reviews_from_specific_topic(topic,df_s,model=glove):\n",
        "\n",
        "  list_indexes = []\n",
        "  for i in range(df_s.shape[0]):\n",
        "      for token in nltk.tokenize.word_tokenize(df_s['preprocess_data'].values[i]):\n",
        "        try:\n",
        "          if glove.similarity(topic,token) > 0.7:\n",
        "            list_indexes.append(i)\n",
        "            continue    \n",
        "        except Exception:\n",
        "          continue\n",
        "\n",
        "  df_topic = df_s[df_s.index.isin(list_indexes)]\n",
        "\n",
        "  return df_topic\n",
        "\n",
        "def sentiment_analysis(df_topic):\n",
        "  analyser = SentimentIntensityAnalyzer()\n",
        "  df_topic['sentiment_compound_score'] = df_topic['review_sentence'].map(lambda x: analyser.polarity_scores(x)[\"compound\"])\n",
        "  print(df_topic['sentiment_compound_score'].describe())\n",
        "  return df_topic\n",
        "\n",
        "def train_lda(df_topic,num_topics = 10):\n",
        "  review_preprocessed = df_topic['preprocess_data'].map(lambda x: nltk.tokenize.word_tokenize(x))\n",
        "  id2word = corpora.Dictionary(review_preprocessed)\n",
        "  # Term Document Frequency\n",
        "  corpus = [id2word.doc2bow(review) for review in review_preprocessed]\n",
        "  lda_model = LdaMulticore(corpus=corpus,id2word=id2word,num_topics=num_topics)\n",
        "\n",
        "  topics = []\n",
        "  for i in range(df_topic.shape[0]):\n",
        "    topics.append(sorted(lda_model[corpus[i]], key=lambda x: x[1], reverse=True)[0][0])\n",
        "  df_topic['topics'] = topics\n",
        "\n",
        "  plot = df_topic.groupby('topics').size()\n",
        "  plot.plot.pie(figsize=(4,4))\n",
        "\n",
        "  return df_topic, lda_model\n",
        "\n",
        "df_s = preprocessing_review_to_sentence(path+'full.json',path+'sentence.csv')\n",
        "df_s = pd.read_csv(path+'sentence.csv')\n",
        "df_s = sentiment_analysis_preprocessing(df_s)\n",
        "\n",
        "topic = \"staff\"\n",
        "df_topic = retrieve_reviews_from_specific_topic(topic,df_s,glove)\n",
        "df_topic = sentiment_analysis(df_topic)\n",
        "df_topic,lda_model = train_lda(df_topic)\n",
        "\n",
        "print(df_topic['sentiment_compound_score'].describe())\n",
        "print(lda_model.print_topics())"
      ],
      "execution_count": null,
      "outputs": [
        {
          "output_type": "stream",
          "text": [
            "count    19450.000000\n",
            "mean         0.452842\n",
            "std          0.484593\n",
            "min         -0.993200\n",
            "25%          0.000000\n",
            "50%          0.624900\n",
            "75%          0.840200\n",
            "max          0.999000\n",
            "Name: sentiment_compound_score, dtype: float64\n",
            "[(0, '0.022*\"staff\" + 0.014*\"villa\" + 0.011*\"parcs\" + 0.011*\"great\" + 0.009*\"service\" + 0.009*\"center\" + 0.008*\"told\" + 0.007*\"time\" + 0.007*\"like\" + 0.007*\"clean\"'), (1, '0.109*\"staff\" + 0.057*\"friendly\" + 0.051*\"helpful\" + 0.017*\"service\" + 0.016*\"clean\" + 0.012*\"polite\" + 0.009*\"great\" + 0.008*\"activities\" + 0.007*\"excellent\" + 0.006*\"restaurants\"'), (2, '0.038*\"service\" + 0.035*\"food\" + 0.031*\"good\" + 0.019*\"staff\" + 0.013*\"time\" + 0.009*\"parcs\" + 0.009*\"excellent\" + 0.008*\"best\" + 0.008*\"center\" + 0.007*\"cafe\"'), (3, '0.021*\"staff\" + 0.020*\"told\" + 0.012*\"pool\" + 0.009*\"asked\" + 0.007*\"arrived\" + 0.007*\"pm\" + 0.006*\"services\" + 0.006*\"service\" + 0.006*\"day\" + 0.005*\"guest\"'), (4, '0.021*\"staff\" + 0.012*\"time\" + 0.012*\"good\" + 0.009*\"activities\" + 0.008*\"booked\" + 0.007*\"friendly\" + 0.007*\"car\" + 0.007*\"day\" + 0.007*\"told\" + 0.007*\"special\"'), (5, '0.022*\"staff\" + 0.020*\"service\" + 0.013*\"cafe\" + 0.013*\"good\" + 0.010*\"went\" + 0.010*\"ate\" + 0.010*\"rouge\" + 0.009*\"food\" + 0.008*\"day\" + 0.008*\"pancake\"'), (6, '0.031*\"staff\" + 0.021*\"service\" + 0.012*\"parcs\" + 0.010*\"center\" + 0.010*\"excellent\" + 0.009*\"customer\" + 0.008*\"maid\" + 0.008*\"told\" + 0.008*\"time\" + 0.007*\"day\"'), (7, '0.029*\"staff\" + 0.009*\"time\" + 0.008*\"told\" + 0.007*\"service\" + 0.006*\"children\" + 0.006*\"birthday\" + 0.006*\"day\" + 0.006*\"family\" + 0.006*\"lovely\" + 0.005*\"friendly\"'), (8, '0.028*\"great\" + 0.022*\"service\" + 0.022*\"quot\" + 0.020*\"staff\" + 0.014*\"good\" + 0.013*\"holiday\" + 0.010*\"bikes\" + 0.010*\"food\" + 0.009*\"expensive\" + 0.009*\"hired\"'), (9, '0.024*\"staff\" + 0.013*\"great\" + 0.011*\"service\" + 0.010*\"good\" + 0.010*\"bikes\" + 0.010*\"hired\" + 0.009*\"time\" + 0.007*\"lodge\" + 0.007*\"loved\" + 0.007*\"went\"')]\n"
          ],
          "name": "stdout"
        },
        {
          "output_type": "stream",
          "text": [
            "/usr/local/lib/python3.7/dist-packages/ipykernel_launcher.py:58: SettingWithCopyWarning: \n",
            "A value is trying to be set on a copy of a slice from a DataFrame.\n",
            "Try using .loc[row_indexer,col_indexer] = value instead\n",
            "\n",
            "See the caveats in the documentation: https://pandas.pydata.org/pandas-docs/stable/user_guide/indexing.html#returning-a-view-versus-a-copy\n"
          ],
          "name": "stderr"
        },
        {
          "output_type": "display_data",
          "data": {
            "image/png": "[encoded data removed]",
            "text/plain": [
              "<Figure size 288x288 with 1 Axes>"
            ]
          },
          "metadata": {
            "tags": []
          }
        }
      ]
    }
  ]
}